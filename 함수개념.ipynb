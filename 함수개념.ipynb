{
  "nbformat": 4,
  "nbformat_minor": 0,
  "metadata": {
    "colab": {
      "provenance": [],
      "authorship_tag": "ABX9TyOS0djQFJ2CGNrlW2BlDziB",
      "include_colab_link": true
    },
    "kernelspec": {
      "name": "python3",
      "display_name": "Python 3"
    },
    "language_info": {
      "name": "python"
    }
  },
  "cells": [
    {
      "cell_type": "markdown",
      "metadata": {
        "id": "view-in-github",
        "colab_type": "text"
      },
      "source": [
        "<a href=\"https://colab.research.google.com/github/jh941213/jh941213/blob/main/%ED%95%A8%EC%88%98%EA%B0%9C%EB%85%90.ipynb\" target=\"_parent\"><img src=\"https://colab.research.google.com/assets/colab-badge.svg\" alt=\"Open In Colab\"/></a>"
      ]
    },
    {
      "cell_type": "markdown",
      "source": [
        "함수의 정의"
      ],
      "metadata": {
        "id": "EgJuuZ4K_p03"
      }
    },
    {
      "cell_type": "code",
      "source": [
        "import re\n",
        "#텍스트를 입력받아서 , 한글이 아닌 문자는 제거해서 리턴하는 함수를 정의해보자,\n",
        "review = 'asasdasd가나다라'\n",
        "hangl_text1=[]\n",
        "def hangeul(review): #def 함수이름(매개변수)\n",
        "    \n",
        "    total = re.sub('[^가-힣]','',review)  #함수 내용\n",
        "\n",
        "\n",
        "    return total #리턴값\n"
      ],
      "metadata": {
        "id": "v6K-SX6P_rjm"
      },
      "execution_count": null,
      "outputs": []
    },
    {
      "cell_type": "code",
      "source": [
        "#함수를 사용해보세요, append 해보세요\n",
        "hangeul(review)             #텍스트 값을 입력 넣어서 hangeul 함수를 실행 시키겠다.\n",
        "tot=hangeul(review)        #한글함수를 호출하여 매개변수자리에 리뷰를 넣고 리턴값을 tot변수에 넣어라\n",
        "hangl_text1.append(tot)"
      ],
      "metadata": {
        "id": "y_En_5bOBYce"
      },
      "execution_count": null,
      "outputs": []
    },
    {
      "cell_type": "code",
      "source": [
        "#숫자 하나를 입력받아서 2로 나눈 나머지를 리턴하는 함수\n",
        "def calculate(num):\n",
        "    \n",
        "    total = num%2\n",
        "    return total\n",
        "#위 함수를 이용해서 7을 2로 나눈 나머지를  result 에 넣어보세요\n",
        "result = calculate(7) #함수 calculate를 호출하여 7을 매개변수에 넣어 토탈값을 리턴 받아 결과변수에 넣어준다.\n",
        "result\n"
      ],
      "metadata": {
        "colab": {
          "base_uri": "https://localhost:8080/"
        },
        "id": "RwGWU0i5HA4h",
        "outputId": "78c00cdf-a673-4a45-996c-77c438e5e6d3"
      },
      "execution_count": null,
      "outputs": [
        {
          "output_type": "execute_result",
          "data": {
            "text/plain": [
              "1"
            ]
          },
          "metadata": {},
          "execution_count": 42
        }
      ]
    },
    {
      "cell_type": "code",
      "source": [
        "#기업별리뷰를 들어가기위한 링크 함수\n",
        "def group(text):\n",
        "    url = f'https://www.teamblind.com/kr/company/{text}/reviews'\n",
        "    return url\n",
        "\n",
        "text = input('기업을 입력하세요')\n",
        "group(text)"
      ],
      "metadata": {
        "colab": {
          "base_uri": "https://localhost:8080/",
          "height": 54
        },
        "id": "jNyFjVyhBhmo",
        "outputId": "57658883-fe38-43ee-82ff-0a8ea6684307"
      },
      "execution_count": null,
      "outputs": [
        {
          "name": "stdout",
          "output_type": "stream",
          "text": [
            "기업을 입력하세요NAVER\n"
          ]
        },
        {
          "output_type": "execute_result",
          "data": {
            "text/plain": [
              "'https://www.teamblind.com/kr/company/NAVER/reviews'"
            ],
            "application/vnd.google.colaboratory.intrinsic+json": {
              "type": "string"
            }
          },
          "metadata": {},
          "execution_count": 43
        }
      ]
    },
    {
      "cell_type": "code",
      "source": [],
      "metadata": {
        "id": "crq0hXyKDJTo"
      },
      "execution_count": null,
      "outputs": []
    }
  ]
}